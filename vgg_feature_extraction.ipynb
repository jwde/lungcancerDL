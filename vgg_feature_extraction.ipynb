{
 "cells": [
  {
   "cell_type": "code",
   "execution_count": 2,
   "metadata": {
    "collapsed": false,
    "deletable": true,
    "editable": true
   },
   "outputs": [
    {
     "name": "stdout",
     "output_type": "stream",
     "text": [
      "The autoreload extension is already loaded. To reload it, use:\n",
      "  %reload_ext autoreload\n"
     ]
    }
   ],
   "source": [
    "%load_ext autoreload\n",
    "%autoreload 2\n",
    "%matplotlib inline\n",
    "\n",
    "import numpy as np\n",
    "from itertools import izip\n",
    "from tf_vgg.kaggle_data import *\n",
    "from tf_vgg import vgg16, utils\n",
    "import matplotlib.pyplot as plt\n",
    "\n"
   ]
  },
  {
   "cell_type": "code",
   "execution_count": 3,
   "metadata": {
    "collapsed": false,
    "deletable": true,
    "editable": true
   },
   "outputs": [],
   "source": [
    "lungs = get_training_lungs()\n",
    "labels = get_training_lung_labels()"
   ]
  },
  {
   "cell_type": "code",
   "execution_count": 4,
   "metadata": {
    "collapsed": false,
    "deletable": true,
    "editable": true
   },
   "outputs": [
    {
     "name": "stdout",
     "output_type": "stream",
     "text": [
      "(60, 227, 227)\n",
      "059d8c14b2256a2ba4e38ac511700203\n",
      "1\n"
     ]
    }
   ],
   "source": [
    "for tup,label in izip(lungs, labels):\n",
    "    print tup[0].shape\n",
    "    print tup[1]\n",
    "    print label\n",
    "    break\n",
    "    "
   ]
  },
  {
   "cell_type": "markdown",
   "metadata": {
    "collapsed": true,
    "deletable": true,
    "editable": true
   },
   "source": [
    "### TEST VGG-BW"
   ]
  },
  {
   "cell_type": "code",
   "execution_count": 5,
   "metadata": {
    "collapsed": false,
    "deletable": true,
    "editable": true
   },
   "outputs": [],
   "source": [
    "VGG_DIR_PATH = \"/notebooks/sharedfolder/lungcancerdl/tf_vgg/\"\n",
    "VGG16_WEIGHT_PATH = VGG_DIR\"vgg16.npy\"\n",
    "nn_weights = np.load(VGG16_WEIGHT_PATH, encoding='latin1').item()"
   ]
  },
  {
   "cell_type": "code",
   "execution_count": 8,
   "metadata": {
    "collapsed": false,
    "deletable": true,
    "editable": true
   },
   "outputs": [
    {
     "name": "stdout",
     "output_type": "stream",
     "text": [
      " conv5_1 (3, 3, 512, 512) (512,)\n",
      "fc6 (25088, 4096) (4096,)\n",
      "conv5_3 (3, 3, 512, 512) (512,)\n",
      "fc7 (4096, 4096) (4096,)\n",
      "fc8 (4096, 1000) (1000,)\n",
      "conv5_2 (3, 3, 512, 512) (512,)\n",
      "conv4_1 (3, 3, 256, 512) (512,)\n",
      "conv4_2 (3, 3, 512, 512) (512,)\n",
      "conv4_3 (3, 3, 512, 512) (512,)\n",
      "conv3_3 (3, 3, 256, 256) (256,)\n",
      "conv3_2 (3, 3, 256, 256) (256,)\n",
      "conv3_1 (3, 3, 128, 256) (256,)\n",
      "conv1_1 (3, 3, 3, 64) (64,)\n",
      "conv1_2 (3, 3, 64, 64) (64,)\n",
      "conv2_2 (3, 3, 128, 128) (128,)\n",
      "conv2_1 (3, 3, 64, 128) (128,)\n"
     ]
    }
   ],
   "source": [
    "for k in nn_weights:\n",
    "    print k, nn_weights[k][0].shape, nn_weights[k][1].shape"
   ]
  },
  {
   "cell_type": "markdown",
   "metadata": {},
   "source": [
    "### Convert conv1_1 to black and white by summing across channels"
   ]
  },
  {
   "cell_type": "code",
   "execution_count": 10,
   "metadata": {
    "collapsed": false
   },
   "outputs": [
    {
     "name": "stdout",
     "output_type": "stream",
     "text": [
      "(3, 3, 3, 64) (64,)\n"
     ]
    }
   ],
   "source": [
    "w,b = nn_weights['conv1_1']\n",
    "print w.shape, b.shape"
   ]
  },
  {
   "cell_type": "markdown",
   "metadata": {},
   "source": [
    "Notice that conv1_1's weight tensor is 4d, \n",
    "there are 64, 3 by 3 by 3 convolutions....\n",
    "So lets sum up the color channels\n",
    "\n",
    "Notice that we do not have to change the bias parameter..."
   ]
  },
  {
   "cell_type": "code",
   "execution_count": 20,
   "metadata": {
    "collapsed": false
   },
   "outputs": [
    {
     "name": "stdout",
     "output_type": "stream",
     "text": [
      "(3, 3, 1, 64)\n"
     ]
    }
   ],
   "source": [
    "w = np.sum(w, axis=2, keepdims=True)\n",
    "print w.shape"
   ]
  },
  {
   "cell_type": "code",
   "execution_count": null,
   "metadata": {
    "collapsed": true
   },
   "outputs": [],
   "source": []
  }
 ],
 "metadata": {
  "kernelspec": {
   "display_name": "Python 2",
   "language": "python",
   "name": "python2"
  },
  "language_info": {
   "codemirror_mode": {
    "name": "ipython",
    "version": 2
   },
   "file_extension": ".py",
   "mimetype": "text/x-python",
   "name": "python",
   "nbconvert_exporter": "python",
   "pygments_lexer": "ipython2",
   "version": "2.7.12"
  }
 },
 "nbformat": 4,
 "nbformat_minor": 2
}
