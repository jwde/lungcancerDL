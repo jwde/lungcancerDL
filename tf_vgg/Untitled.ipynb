{
 "cells": [
  {
   "cell_type": "markdown",
   "metadata": {
    "deletable": true,
    "editable": true
   },
   "source": [
    "# tensorflow!"
   ]
  },
  {
   "cell_type": "code",
   "execution_count": 1,
   "metadata": {
    "collapsed": false,
    "deletable": true,
    "editable": true
   },
   "outputs": [],
   "source": [
    "import numpy as np\n",
    "import tensorflow as tf\n",
    "\n",
    "import vgg16\n",
    "import utils"
   ]
  },
  {
   "cell_type": "code",
   "execution_count": 3,
   "metadata": {
    "collapsed": false,
    "deletable": true,
    "editable": true
   },
   "outputs": [
    {
     "name": "stdout",
     "output_type": "stream",
     "text": [
      "/notebooks/sharedfolder/lungcancerDL/tensorflow-vgg/vgg16.npy\n",
      "npy file loaded\n",
      "build model started\n",
      "build model finished: 0s\n",
      "[[  2.38407316e-09   4.29312852e-09   8.45099546e-10 ...,   7.95111799e-09\n",
      "    2.29004087e-08   1.97537027e-08]\n",
      " [  2.78825620e-08   4.09707042e-07   1.02887325e-08 ...,   1.14151270e-07\n",
      "    6.34901696e-08   1.54330210e-05]]\n",
      "('Top1: ', 'n02129604 tiger, Panthera tigris', 0.82691652)\n",
      "('Top5: ', [('n02129604 tiger, Panthera tigris', 0.82691652), ('n02123159 tiger cat', 0.17136927), ('n02128925 jaguar, panther, Panthera onca, Felis onca', 0.0012765444), ('n02127052 lynx, catamount', 0.00017351808), ('n02128385 leopard, Panthera pardus', 0.00015544184)])\n",
      "('Top1: ', 'n03598930 jigsaw puzzle', 0.99591452)\n",
      "('Top5: ', [('n03598930 jigsaw puzzle', 0.99591452), ('n03291819 envelope', 0.00028725105), ('n03908618 pencil box, pencil case', 0.00022548508), ('n03188531 diaper, nappy, napkin', 0.00021818091), ('n04033995 quilt, comforter, comfort, puff', 0.00018459363)])\n"
     ]
    }
   ],
   "source": [
    "img1 = utils.load_image(\"./test_data/tiger.jpeg\")\n",
    "img2 = utils.load_image(\"./test_data/puzzle.jpeg\")\n",
    "\n",
    "batch1 = img1.reshape((1, 224, 224, 3))\n",
    "batch2 = img2.reshape((1, 224, 224, 3))\n",
    "\n",
    "batch = np.concatenate((batch1, batch2), 0)\n",
    "\n",
    "# with tf.Session(config=tf.ConfigProto(gpu_options=(tf.GPUOptions(per_process_gpu_memory_fraction=0.7)))) as sess:\n",
    "with tf.device('/cpu:0'):\n",
    "    with tf.Session() as sess:\n",
    "        images = tf.placeholder(\"float\", [2, 224, 224, 3])\n",
    "        feed_dict = {images: batch}\n",
    "\n",
    "        vgg = vgg16.Vgg16()\n",
    "        with tf.name_scope(\"content_vgg\"):\n",
    "            vgg.build(images)\n",
    "\n",
    "        prob = sess.run(vgg.prob, feed_dict=feed_dict)\n",
    "        print(prob)\n",
    "        utils.print_prob(prob[0], './synset.txt')\n",
    "        utils.print_prob(prob[1], './synset.txt')"
   ]
  },
  {
   "cell_type": "code",
   "execution_count": 4,
   "metadata": {
    "collapsed": false,
    "deletable": true,
    "editable": true
   },
   "outputs": [],
   "source": [
    "# Test VGG classification\n",
    "nn_weights = np.load(\"vgg16.npy\", encoding='latin1').item()\n"
   ]
  },
  {
   "cell_type": "code",
   "execution_count": 5,
   "metadata": {
    "collapsed": false,
    "deletable": true,
    "editable": true
   },
   "outputs": [
    {
     "name": "stdout",
     "output_type": "stream",
     "text": [
      "[('conv5_1', <type 'list'>), ('fc6', <type 'list'>), ('conv5_3', <type 'list'>), ('fc7', <type 'list'>), ('fc8', <type 'list'>), ('conv5_2', <type 'list'>), ('conv4_1', <type 'list'>), ('conv4_2', <type 'list'>), ('conv4_3', <type 'list'>), ('conv3_3', <type 'list'>), ('conv3_2', <type 'list'>), ('conv3_1', <type 'list'>), ('conv1_1', <type 'list'>), ('conv1_2', <type 'list'>), ('conv2_2', <type 'list'>), ('conv2_1', <type 'list'>)]\n"
     ]
    }
   ],
   "source": [
    "print [(k, type(nn_weights[k])) for k in nn_weights]"
   ]
  },
  {
   "cell_type": "code",
   "execution_count": 6,
   "metadata": {
    "collapsed": false,
    "deletable": true,
    "editable": true
   },
   "outputs": [
    {
     "name": "stdout",
     "output_type": "stream",
     "text": [
      "(3, 3, 3, 64)\n",
      "(64,)\n"
     ]
    }
   ],
   "source": [
    "print nn_weights[\"conv1_1\"][0].shape\n",
    "print nn_weights[\"conv1_1\"][1].shape"
   ]
  },
  {
   "cell_type": "code",
   "execution_count": 8,
   "metadata": {
    "collapsed": false,
    "deletable": true,
    "editable": true
   },
   "outputs": [
    {
     "name": "stdout",
     "output_type": "stream",
     "text": [
      "/notebooks/sharedfolder/lungcancerDL/tensorflow-vgg/vgg16.npy\n",
      "npy file loaded\n",
      "build model started\n",
      "build model finished: 0s\n",
      "[[  2.38407316e-09   4.29312852e-09   8.45099546e-10 ...,   7.95111799e-09\n",
      "    2.29004087e-08   1.97537027e-08]\n",
      " [  2.78825620e-08   4.09707042e-07   1.02887325e-08 ...,   1.14151270e-07\n",
      "    6.34901696e-08   1.54330210e-05]]\n",
      "('Top1: ', 'n02129604 tiger, Panthera tigris', 0.82691652)\n",
      "('Top5: ', [('n02129604 tiger, Panthera tigris', 0.82691652), ('n02123159 tiger cat', 0.17136927), ('n02128925 jaguar, panther, Panthera onca, Felis onca', 0.0012765444), ('n02127052 lynx, catamount', 0.00017351808), ('n02128385 leopard, Panthera pardus', 0.00015544184)])\n",
      "('Top1: ', 'n03598930 jigsaw puzzle', 0.99591452)\n",
      "('Top5: ', [('n03598930 jigsaw puzzle', 0.99591452), ('n03291819 envelope', 0.00028725105), ('n03908618 pencil box, pencil case', 0.00022548508), ('n03188531 diaper, nappy, napkin', 0.00021818091), ('n04033995 quilt, comforter, comfort, puff', 0.00018459363)])\n"
     ]
    }
   ],
   "source": [
    "feats = None\n",
    "with tf.device('/gpu:0'):\n",
    "    with tf.Session() as sess:\n",
    "        images = tf.placeholder(\"float\", [2, 224, 224, 3])\n",
    "        feed_dict = {images: batch}\n",
    "\n",
    "        vgg = vgg16.Vgg16()\n",
    "        with tf.name_scope(\"content_vgg\"):\n",
    "            vgg.build(images)\n",
    "\n",
    "        feats = sess.run(vgg.pool5, feed_dict=feed_dict)\n",
    "        print(prob)\n",
    "        utils.print_prob(prob[0], './synset.txt')\n",
    "        utils.print_prob(prob[1], './synset.txt')"
   ]
  },
  {
   "cell_type": "code",
   "execution_count": 20,
   "metadata": {
    "collapsed": false,
    "deletable": true,
    "editable": true
   },
   "outputs": [
    {
     "name": "stdout",
     "output_type": "stream",
     "text": [
      "(2, 7, 7, 512)\n"
     ]
    }
   ],
   "source": [
    "print feats.shape"
   ]
  },
  {
   "cell_type": "code",
   "execution_count": null,
   "metadata": {
    "collapsed": true,
    "deletable": true,
    "editable": true
   },
   "outputs": [],
   "source": []
  }
 ],
 "metadata": {
  "kernelspec": {
   "display_name": "Python 2",
   "language": "python",
   "name": "python2"
  },
  "language_info": {
   "codemirror_mode": {
    "name": "ipython",
    "version": 2
   },
   "file_extension": ".py",
   "mimetype": "text/x-python",
   "name": "python",
   "nbconvert_exporter": "python",
   "pygments_lexer": "ipython2",
   "version": "2.7.12"
  }
 },
 "nbformat": 4,
 "nbformat_minor": 2
}
