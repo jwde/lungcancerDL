{
 "cells": [
  {
   "cell_type": "code",
   "execution_count": 1,
   "metadata": {
    "collapsed": false
   },
   "outputs": [
    {
     "name": "stderr",
     "output_type": "stream",
     "text": [
      "/usr/local/lib/python2.7/dist-packages/sklearn/cross_validation.py:44: DeprecationWarning: This module was deprecated in version 0.18 in favor of the model_selection module into which all the refactored classes and functions are moved. Also note that the interface of the new CV iterators are different from that of this module. This module will be removed in 0.20.\n",
      "  \"This module will be removed in 0.20.\", DeprecationWarning)\n"
     ]
    }
   ],
   "source": [
    "%load_ext autoreload\n",
    "%autoreload 2\n",
    "%matplotlib inline\n",
    "from tf_vgg import kaggle_data\n",
    "import numpy as np\n",
    "import pandas as pd\n",
    "from sklearn.feature_extraction.text import CountVectorizer\n",
    "from sklearn.preprocessing import LabelEncoder\n",
    "from sklearn.model_selection import StratifiedKFold\n",
    "import random\n",
    "from math import exp\n",
    "from itertools import izip, islice\n",
    "import matplotlib.pyplot as plt\n",
    "\n",
    "import xgboost as xgb\n"
   ]
  },
  {
   "cell_type": "code",
   "execution_count": 2,
   "metadata": {
    "collapsed": false
   },
   "outputs": [
    {
     "name": "stdout",
     "output_type": "stream",
     "text": [
      "(60, 7, 7, 512)\n",
      "0\n"
     ]
    },
    {
     "data": {
      "image/png": "[encoded data removed]",
      "text/plain": [
       "<matplotlib.figure.Figure at 0x7f728e0bcb10>"
      ]
     },
     "metadata": {},
     "output_type": "display_data"
    }
   ],
   "source": [
    "lungs = kaggle_data.get_training_lungs()\n",
    "features = kaggle_data.get_training_vgg_features()\n",
    "labels = kaggle_data.get_training_lung_labels()\n",
    "\n",
    "for (tup, name),label in izip(features, labels):\n",
    "    print tup.shape\n",
    "    print label\n",
    "    plt.hist(tup.flatten(), bins=80)\n",
    "    plt.show()\n",
    "    break"
   ]
  },
  {
   "cell_type": "code",
   "execution_count": 5,
   "metadata": {
    "collapsed": false
   },
   "outputs": [
    {
     "name": "stdout",
     "output_type": "stream",
     "text": [
      "(1396, 60, 7, 7, 512)\n"
     ]
    }
   ],
   "source": [
    "param = {\n",
    "    'objective': 'binary:logistic',\n",
    "    'max_depth': 20,\n",
    "    'eval_metric': 'auc'\n",
    "}\n",
    "\n",
    "def strip_names(iterator):\n",
    "    for i, name in iterator:\n",
    "        yield i\n",
    "        \n",
    "# hacky but it works\n",
    "data_len = 1396\n",
    "        \n",
    "features_np = np.empty((data_len, 60, 7, 7, 512), dtype=np.float32)\n",
    "labels_np = np.empty((data_len,), dtype=np.int32)\n",
    "for i, lung_features in enumerate(strip_names(features)):\n",
    "    features_np[i] = lung_features\n",
    "for i, label in enumerate(labels):\n",
    "    labels_np[i] = label\n",
    "print features_np.shape\n",
    "features_np = features_np.reshape(features_np.shape[0], reduce(lambda a,b: a*b, features_np.shape[1:]))\n",
    "\n",
    "dtrain = xgb.DMatrix(features_np[:500], label=labels_np[:500])\n",
    "dvalidate = xgb.DMatrix(features_np[500:600], label=labels_np[500:600])"
   ]
  },
  {
   "cell_type": "code",
   "execution_count": 6,
   "metadata": {
    "collapsed": false
   },
   "outputs": [
    {
     "name": "stdout",
     "output_type": "stream",
     "text": [
      "[0]\teval-auc:0.583851\ttrain-auc:0.993333\n",
      "[1]\teval-auc:0.519198\ttrain-auc:0.999978\n",
      "[2]\teval-auc:0.566629\ttrain-auc:1\n",
      "[3]\teval-auc:0.600508\ttrain-auc:1\n",
      "[4]\teval-auc:0.611519\ttrain-auc:1\n",
      "[5]\teval-auc:0.627329\ttrain-auc:1\n",
      "[6]\teval-auc:0.58498\ttrain-auc:1\n",
      "[7]\teval-auc:0.571993\ttrain-auc:1\n",
      "[8]\teval-auc:0.625071\ttrain-auc:1\n",
      "[9]\teval-auc:0.639187\ttrain-auc:1\n"
     ]
    }
   ],
   "source": [
    "num_round = 10\n",
    "\n",
    "evallist = [(dvalidate, 'eval'), (dtrain, 'train')]\n",
    "\n",
    "bst = xgb.train(param, dtrain, num_round, evallist)"
   ]
  },
  {
   "cell_type": "code",
   "execution_count": null,
   "metadata": {
    "collapsed": true
   },
   "outputs": [],
   "source": []
  }
 ],
 "metadata": {
  "kernelspec": {
   "display_name": "Python 2",
   "language": "python",
   "name": "python2"
  },
  "language_info": {
   "codemirror_mode": {
    "name": "ipython",
    "version": 2
   },
   "file_extension": ".py",
   "mimetype": "text/x-python",
   "name": "python",
   "nbconvert_exporter": "python",
   "pygments_lexer": "ipython2",
   "version": "2.7.12"
  }
 },
 "nbformat": 4,
 "nbformat_minor": 2
}
