{
 "cells": [
  {
   "cell_type": "code",
   "execution_count": 1,
   "metadata": {
    "collapsed": false,
    "deletable": true,
    "editable": true
   },
   "outputs": [
    {
     "name": "stderr",
     "output_type": "stream",
     "text": [
      "/usr/local/lib/python2.7/dist-packages/sklearn/cross_validation.py:44: DeprecationWarning: This module was deprecated in version 0.18 in favor of the model_selection module into which all the refactored classes and functions are moved. Also note that the interface of the new CV iterators are different from that of this module. This module will be removed in 0.20.\n",
      "  \"This module will be removed in 0.20.\", DeprecationWarning)\n"
     ]
    }
   ],
   "source": [
    "%load_ext autoreload\n",
    "%autoreload 2\n",
    "%matplotlib inline\n",
    "from tf_vgg import kaggle_data\n",
    "import numpy as np\n",
    "import pandas as pd\n",
    "from sklearn.feature_extraction.text import CountVectorizer\n",
    "from sklearn.preprocessing import LabelEncoder\n",
    "from sklearn.model_selection import StratifiedKFold\n",
    "import random\n",
    "from math import exp\n",
    "from itertools import izip, islice\n",
    "import matplotlib.pyplot as plt\n",
    "\n",
    "import xgboost as xgb\n"
   ]
  },
  {
   "cell_type": "code",
   "execution_count": 2,
   "metadata": {
    "collapsed": false,
    "deletable": true,
    "editable": true
   },
   "outputs": [
    {
     "name": "stdout",
     "output_type": "stream",
     "text": [
      "(60, 7, 7, 512)\n",
      "0\n"
     ]
    },
    {
     "data": {
      "image/png": "[encoded data removed]",
      "text/plain": [
       "<matplotlib.figure.Figure at 0x7f66a74bfb10>"
      ]
     },
     "metadata": {},
     "output_type": "display_data"
    }
   ],
   "source": [
    "lungs = kaggle_data.get_training_lungs()\n",
    "features = kaggle_data.get_training_vgg19_features()\n",
    "labels = kaggle_data.get_training_lung_labels()\n",
    "\n",
    "for (tup, name),label in izip(features, labels):\n",
    "    print tup.shape\n",
    "    print label\n",
    "    plt.hist(tup.flatten(), bins=80)\n",
    "    plt.show()\n",
    "    break"
   ]
  },
  {
   "cell_type": "code",
   "execution_count": 3,
   "metadata": {
    "collapsed": false,
    "deletable": true,
    "editable": true
   },
   "outputs": [
    {
     "name": "stdout",
     "output_type": "stream",
     "text": [
      "(1396, 60, 7, 7, 512)\n"
     ]
    }
   ],
   "source": [
    "param = {\n",
    "    'objective': 'binary:logistic',\n",
    "    'max_depth': 10,\n",
    "    'eval_metric': ['error', 'auc', 'logloss']\n",
    "}\n",
    "\n",
    "def strip_names(iterator):\n",
    "    for i, name in iterator:\n",
    "        yield i\n",
    "        \n",
    "# hacky but it works\n",
    "data_len = 1396\n",
    "        \n",
    "features_np = np.empty((data_len, 60, 7, 7, 512), dtype=np.float32)\n",
    "labels_np = np.empty((data_len,), dtype=np.int32)\n",
    "for i, lung_features in enumerate(strip_names(features)):\n",
    "    features_np[i] = lung_features\n",
    "for i, label in enumerate(labels):\n",
    "    labels_np[i] = label\n",
    "print features_np.shape\n",
    "features_np = features_np.reshape(features_np.shape[0], reduce(lambda a,b: a*b, features_np.shape[1:]))\n",
    "\n",
    "dtrain = xgb.DMatrix(features_np[:500], label=labels_np[:500])\n",
    "dvalidate = xgb.DMatrix(features_np[500:600], label=labels_np[500:600])"
   ]
  },
  {
   "cell_type": "code",
   "execution_count": 4,
   "metadata": {
    "collapsed": false,
    "deletable": true,
    "editable": true
   },
   "outputs": [
    {
     "name": "stdout",
     "output_type": "stream",
     "text": [
      "[0]\teval-error:0.3\teval-auc:0.503953\teval-logloss:0.626157\ttrain-error:0.06\ttrain-auc:0.897204\ttrain-logloss:0.506373\n",
      "[1]\teval-error:0.35\teval-auc:0.509317\teval-logloss:0.604985\ttrain-error:0.04\ttrain-auc:0.994298\ttrain-logloss:0.388149\n",
      "[2]\teval-error:0.3\teval-auc:0.523151\teval-logloss:0.595263\ttrain-error:0.01\ttrain-auc:0.99989\ttrain-logloss:0.295102\n",
      "[3]\teval-error:0.28\teval-auc:0.49633\teval-logloss:0.599038\ttrain-error:0.004\ttrain-auc:1\ttrain-logloss:0.227834\n",
      "[4]\teval-error:0.28\teval-auc:0.47572\teval-logloss:0.610816\ttrain-error:0\ttrain-auc:1\ttrain-logloss:0.177607\n",
      "[5]\teval-error:0.27\teval-auc:0.45991\teval-logloss:0.612974\ttrain-error:0\ttrain-auc:1\ttrain-logloss:0.14021\n",
      "[6]\teval-error:0.26\teval-auc:0.45511\teval-logloss:0.622946\ttrain-error:0\ttrain-auc:1\ttrain-logloss:0.114107\n",
      "[7]\teval-error:0.27\teval-auc:0.460757\teval-logloss:0.638755\ttrain-error:0\ttrain-auc:1\ttrain-logloss:0.093981\n",
      "[8]\teval-error:0.27\teval-auc:0.47092\teval-logloss:0.648083\ttrain-error:0\ttrain-auc:1\ttrain-logloss:0.078941\n",
      "[9]\teval-error:0.26\teval-auc:0.440429\teval-logloss:0.672109\ttrain-error:0\ttrain-auc:1\ttrain-logloss:0.067111\n"
     ]
    }
   ],
   "source": [
    "num_round = 10\n",
    "\n",
    "evallist = [(dvalidate, 'eval'), (dtrain, 'train')]\n",
    "\n",
    "bst = xgb.train(param, dtrain, num_round, evallist)"
   ]
  },
  {
   "cell_type": "code",
   "execution_count": null,
   "metadata": {
    "collapsed": true,
    "deletable": true,
    "editable": true
   },
   "outputs": [],
   "source": []
  }
 ],
 "metadata": {
  "kernelspec": {
   "display_name": "Python 2",
   "language": "python",
   "name": "python2"
  },
  "language_info": {
   "codemirror_mode": {
    "name": "ipython",
    "version": 2
   },
   "file_extension": ".py",
   "mimetype": "text/x-python",
   "name": "python",
   "nbconvert_exporter": "python",
   "pygments_lexer": "ipython2",
   "version": "2.7.12"
  }
 },
 "nbformat": 4,
 "nbformat_minor": 2
}
